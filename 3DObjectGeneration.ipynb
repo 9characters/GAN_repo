{
  "nbformat": 4,
  "nbformat_minor": 0,
  "metadata": {
    "colab": {
      "name": "3DSofaGenerate.ipynb",
      "provenance": [],
      "authorship_tag": "ABX9TyMOxzFljBqcxQ0iVf72dJMO",
      "include_colab_link": true
    },
    "kernelspec": {
      "name": "python3",
      "display_name": "Python 3"
    },
    "accelerator": "GPU"
  },
  "cells": [
    {
      "cell_type": "markdown",
      "metadata": {
        "id": "view-in-github",
        "colab_type": "text"
      },
      "source": [
        "<a href=\"https://colab.research.google.com/github/9characters/GAN_repo/blob/master/3DObjectGeneration.ipynb\" target=\"_parent\"><img src=\"https://colab.research.google.com/assets/colab-badge.svg\" alt=\"Open In Colab\"/></a>"
      ]
    },
    {
      "cell_type": "code",
      "metadata": {
        "id": "NNuQAtFHZGs1",
        "colab_type": "code",
        "colab": {
          "base_uri": "https://localhost:8080/",
          "height": 136
        },
        "outputId": "100bbd3b-8088-46f4-98c6-5a072bb8acc0"
      },
      "source": [
        "!git clone https://github.com/facebookresearch/meshrcnn"
      ],
      "execution_count": 1,
      "outputs": [
        {
          "output_type": "stream",
          "text": [
            "Cloning into 'meshrcnn'...\n",
            "remote: Enumerating objects: 207, done.\u001b[K\n",
            "remote: Counting objects: 100% (207/207), done.\u001b[K\n",
            "remote: Compressing objects: 100% (149/149), done.\u001b[K\n",
            "remote: Total 207 (delta 78), reused 182 (delta 53), pack-reused 0\u001b[K\n",
            "Receiving objects: 100% (207/207), 106.56 KiB | 226.00 KiB/s, done.\n",
            "Resolving deltas: 100% (78/78), done.\n"
          ],
          "name": "stdout"
        }
      ]
    },
    {
      "cell_type": "code",
      "metadata": {
        "id": "wTYb-Xt0ilDC",
        "colab_type": "code",
        "colab": {
          "base_uri": "https://localhost:8080/",
          "height": 1000
        },
        "outputId": "9f8a1d4d-7d40-4d4b-e422-e103fb7de4d2"
      },
      "source": [
        "!python -m pip install detectron2 -f https://dl.fbaipublicfiles.com/detectron2/wheels/cu101/index.html"
      ],
      "execution_count": 6,
      "outputs": [
        {
          "output_type": "stream",
          "text": [
            "Collecting detectron2\n",
            "  Downloading https://dl.fbaipublicfiles.com/detectron2/wheels/cu101/detectron2-0.1.1%2Bcu101-cp36-cp36m-linux_x86_64.whl (6.2MB)\n",
            "\u001b[K    100% |████████████████████████████████| 6.2MB 150kB/s \n",
            "\u001b[?25hRequirement already satisfied: matplotlib in /usr/local/lib/python3.6/site-packages (from detectron2)\n",
            "Requirement already satisfied: Pillow in /usr/local/lib/python3.6/site-packages (from detectron2)\n",
            "Collecting termcolor>=1.1 (from detectron2)\n",
            "  Downloading https://files.pythonhosted.org/packages/8a/48/a76be51647d0eb9f10e2a4511bf3ffb8cc1e6b14e9e4fab46173aa79f981/termcolor-1.1.0.tar.gz\n",
            "Collecting future (from detectron2)\n",
            "  Downloading https://files.pythonhosted.org/packages/45/0b/38b06fd9b92dc2b68d58b75f900e97884c45bedd2ff83203d933cf5851c9/future-0.18.2.tar.gz (829kB)\n",
            "\u001b[K    100% |████████████████████████████████| 829kB 1.4MB/s \n",
            "\u001b[?25hCollecting tensorboard (from detectron2)\n",
            "  Downloading https://files.pythonhosted.org/packages/1d/fd/4f3ca1516cbb3713259ef229abd9314bba0077ef6070285dde0dd1ed21b2/tensorboard-2.2.1-py3-none-any.whl (3.0MB)\n",
            "\u001b[K    100% |████████████████████████████████| 3.0MB 443kB/s \n",
            "\u001b[?25hCollecting pydot (from detectron2)\n",
            "  Downloading https://files.pythonhosted.org/packages/33/d1/b1479a770f66d962f545c2101630ce1d5592d90cb4f083d38862e93d16d2/pydot-1.4.1-py2.py3-none-any.whl\n",
            "Requirement already satisfied: cloudpickle in /usr/local/lib/python3.6/site-packages (from detectron2)\n",
            "Collecting yacs>=0.1.6 (from detectron2)\n",
            "  Downloading https://files.pythonhosted.org/packages/81/3b/40e876afde9f5ffa1cfdce10565aba85b0dc2e067ed551dfb566cfee6d4d/yacs-0.1.7-py3-none-any.whl\n",
            "Collecting fvcore (from detectron2)\n",
            "  Downloading https://files.pythonhosted.org/packages/82/7d/fc0e4cbdfdc1234c26956e6d6b2e44ad3779d52722924b9ce8fd5948c38f/fvcore-0.1.dev200504.tar.gz\n",
            "Collecting tqdm>4.29.0 (from detectron2)\n",
            "  Downloading https://files.pythonhosted.org/packages/c9/40/058b12e8ba10e35f89c9b1fdfc2d4c7f8c05947df2d5eb3c7b258019fda0/tqdm-4.46.0-py2.py3-none-any.whl (63kB)\n",
            "\u001b[K    100% |████████████████████████████████| 71kB 12.3MB/s \n",
            "\u001b[?25hCollecting tabulate (from detectron2)\n",
            "  Downloading https://files.pythonhosted.org/packages/c4/f4/770ae9385990f5a19a91431163d262182d3203662ea2b5739d0fcfc080f1/tabulate-0.8.7-py3-none-any.whl\n",
            "Requirement already satisfied: numpy>=1.7.1 in /usr/local/lib/python3.6/site-packages (from matplotlib->detectron2)\n",
            "Requirement already satisfied: six>=1.10 in /usr/local/lib/python3.6/site-packages (from matplotlib->detectron2)\n",
            "Requirement already satisfied: python-dateutil>=2.1 in /usr/local/lib/python3.6/site-packages (from matplotlib->detectron2)\n",
            "Requirement already satisfied: pytz in /usr/local/lib/python3.6/site-packages (from matplotlib->detectron2)\n",
            "Requirement already satisfied: cycler>=0.10 in /usr/local/lib/python3.6/site-packages (from matplotlib->detectron2)\n",
            "Requirement already satisfied: pyparsing!=2.0.4,!=2.1.2,!=2.1.6,>=2.0.1 in /usr/local/lib/python3.6/site-packages (from matplotlib->detectron2)\n",
            "Requirement already satisfied: werkzeug>=0.11.15 in /usr/local/lib/python3.6/site-packages (from tensorboard->detectron2)\n",
            "Collecting grpcio>=1.24.3 (from tensorboard->detectron2)\n",
            "  Downloading https://files.pythonhosted.org/packages/cf/7a/9744998129fce7e29c5f2d8b0f545913b7383e65d8366fc0ae98d11936af/grpcio-1.28.1.tar.gz (19.5MB)\n",
            "\u001b[K    100% |████████████████████████████████| 19.5MB 70kB/s \n",
            "\u001b[?25hCollecting tensorboard-plugin-wit>=1.6.0 (from tensorboard->detectron2)\n",
            "  Downloading https://files.pythonhosted.org/packages/51/cd/a0c1f9e4582ea64dddf76c1b808b318d01e3b858a51c715bffab1016ecc7/tensorboard_plugin_wit-1.6.0.post3-py3-none-any.whl (777kB)\n",
            "\u001b[K    100% |████████████████████████████████| 778kB 1.7MB/s \n",
            "\u001b[?25hCollecting google-auth-oauthlib<0.5,>=0.4.1 (from tensorboard->detectron2)\n",
            "  Downloading https://files.pythonhosted.org/packages/7b/b8/88def36e74bee9fce511c9519571f4e485e890093ab7442284f4ffaef60b/google_auth_oauthlib-0.4.1-py2.py3-none-any.whl\n",
            "Requirement already satisfied: wheel>=0.26; python_version >= \"3\" in /usr/local/lib/python3.6/site-packages (from tensorboard->detectron2)\n",
            "Collecting absl-py>=0.4 (from tensorboard->detectron2)\n",
            "  Downloading https://files.pythonhosted.org/packages/1a/53/9243c600e047bd4c3df9e69cfabc1e8004a82cac2e0c484580a78a94ba2a/absl-py-0.9.0.tar.gz (104kB)\n",
            "\u001b[K    100% |████████████████████████████████| 112kB 10.7MB/s \n",
            "\u001b[?25hCollecting requests<3,>=2.21.0 (from tensorboard->detectron2)\n",
            "  Downloading https://files.pythonhosted.org/packages/1a/70/1935c770cb3be6e3a8b78ced23d7e0f3b187f5cbfab4749523ed65d7c9b1/requests-2.23.0-py2.py3-none-any.whl (58kB)\n",
            "\u001b[K    100% |████████████████████████████████| 61kB 11.0MB/s \n",
            "\u001b[?25hCollecting markdown>=2.6.8 (from tensorboard->detectron2)\n",
            "  Downloading https://files.pythonhosted.org/packages/ab/c4/ba46d44855e6eb1770a12edace5a165a0c6de13349f592b9036257f3c3d3/Markdown-3.2.1-py2.py3-none-any.whl (88kB)\n",
            "\u001b[K    100% |████████████████████████████████| 92kB 10.6MB/s \n",
            "\u001b[?25hCollecting google-auth<2,>=1.6.3 (from tensorboard->detectron2)\n",
            "  Downloading https://files.pythonhosted.org/packages/d2/f8/1623d69e5de22e499b68a0cb5e5d02cd6a2843e55acc19f314f48fe04299/google_auth-1.14.1-py2.py3-none-any.whl (89kB)\n",
            "\u001b[K    100% |████████████████████████████████| 92kB 11.0MB/s \n",
            "\u001b[?25hCollecting protobuf>=3.6.0 (from tensorboard->detectron2)\n",
            "  Downloading https://files.pythonhosted.org/packages/57/02/5432412c162989260fab61fa65e0a490c1872739eb91a659896e4d554b26/protobuf-3.11.3-cp36-cp36m-manylinux1_x86_64.whl (1.3MB)\n",
            "\u001b[K    100% |████████████████████████████████| 1.3MB 1.1MB/s \n",
            "\u001b[?25hCollecting setuptools>=41.0.0 (from tensorboard->detectron2)\n",
            "  Downloading https://files.pythonhosted.org/packages/a0/df/635cdb901ee4a8a42ec68e480c49f85f4c59e8816effbf57d9e6ee8b3588/setuptools-46.1.3-py3-none-any.whl (582kB)\n",
            "\u001b[K    100% |████████████████████████████████| 583kB 2.4MB/s \n",
            "\u001b[?25hRequirement already satisfied: PyYAML in /usr/local/lib/python3.6/site-packages (from yacs>=0.1.6->detectron2)\n",
            "Collecting portalocker (from fvcore->detectron2)\n",
            "  Downloading https://files.pythonhosted.org/packages/53/84/7b3146ec6378d28abc73ab484f09f47dfa008ad6f03f33d90a369f880e25/portalocker-1.7.0-py2.py3-none-any.whl\n",
            "Collecting requests-oauthlib>=0.7.0 (from google-auth-oauthlib<0.5,>=0.4.1->tensorboard->detectron2)\n",
            "  Downloading https://files.pythonhosted.org/packages/a3/12/b92740d845ab62ea4edf04d2f4164d82532b5a0b03836d4d4e71c6f3d379/requests_oauthlib-1.3.0-py2.py3-none-any.whl\n",
            "Requirement already satisfied: idna<3,>=2.5 in /usr/local/lib/python3.6/site-packages (from requests<3,>=2.21.0->tensorboard->detectron2)\n",
            "Requirement already satisfied: urllib3!=1.25.0,!=1.25.1,<1.26,>=1.21.1 in /usr/local/lib/python3.6/site-packages (from requests<3,>=2.21.0->tensorboard->detectron2)\n",
            "Requirement already satisfied: certifi>=2017.4.17 in /usr/local/lib/python3.6/site-packages (from requests<3,>=2.21.0->tensorboard->detectron2)\n",
            "Requirement already satisfied: chardet<4,>=3.0.2 in /usr/local/lib/python3.6/site-packages (from requests<3,>=2.21.0->tensorboard->detectron2)\n",
            "Collecting cachetools<5.0,>=2.0.0 (from google-auth<2,>=1.6.3->tensorboard->detectron2)\n",
            "  Downloading https://files.pythonhosted.org/packages/b3/59/524ffb454d05001e2be74c14745b485681c6ed5f2e625f71d135704c0909/cachetools-4.1.0-py3-none-any.whl\n",
            "Collecting pyasn1-modules>=0.2.1 (from google-auth<2,>=1.6.3->tensorboard->detectron2)\n",
            "  Downloading https://files.pythonhosted.org/packages/95/de/214830a981892a3e286c3794f41ae67a4495df1108c3da8a9f62159b9a9d/pyasn1_modules-0.2.8-py2.py3-none-any.whl (155kB)\n",
            "\u001b[K    100% |████████████████████████████████| 163kB 7.8MB/s \n",
            "\u001b[?25hCollecting rsa<4.1,>=3.1.4 (from google-auth<2,>=1.6.3->tensorboard->detectron2)\n",
            "  Downloading https://files.pythonhosted.org/packages/02/e5/38518af393f7c214357079ce67a317307936896e961e35450b70fad2a9cf/rsa-4.0-py2.py3-none-any.whl\n",
            "Collecting oauthlib>=3.0.0 (from requests-oauthlib>=0.7.0->google-auth-oauthlib<0.5,>=0.4.1->tensorboard->detectron2)\n",
            "  Downloading https://files.pythonhosted.org/packages/05/57/ce2e7a8fa7c0afb54a0581b14a65b56e62b5759dbc98e80627142b8a3704/oauthlib-3.1.0-py2.py3-none-any.whl (147kB)\n",
            "\u001b[K    100% |████████████████████████████████| 153kB 7.7MB/s \n",
            "\u001b[?25hCollecting pyasn1<0.5.0,>=0.4.6 (from pyasn1-modules>=0.2.1->google-auth<2,>=1.6.3->tensorboard->detectron2)\n",
            "  Downloading https://files.pythonhosted.org/packages/62/1e/a94a8d635fa3ce4cfc7f506003548d0a2447ae76fd5ca53932970fe3053f/pyasn1-0.4.8-py2.py3-none-any.whl (77kB)\n",
            "\u001b[K    100% |████████████████████████████████| 81kB 11.8MB/s \n",
            "\u001b[?25hBuilding wheels for collected packages: termcolor, future, fvcore, grpcio, absl-py\n",
            "  Running setup.py bdist_wheel for termcolor ... \u001b[?25ldone\n",
            "\u001b[?25h  Stored in directory: /root/.cache/pip/wheels/7c/06/54/bc84598ba1daf8f970247f550b175aaaee85f68b4b0c5ab2c6\n",
            "  Running setup.py bdist_wheel for future ... \u001b[?25ldone\n",
            "\u001b[?25h  Stored in directory: /root/.cache/pip/wheels/8b/99/a0/81daf51dcd359a9377b110a8a886b3895921802d2fc1b2397e\n",
            "  Running setup.py bdist_wheel for fvcore ... \u001b[?25ldone\n",
            "\u001b[?25h  Stored in directory: /root/.cache/pip/wheels/89/10/23/4bb2d4426101b4e6f08afe09c44c8a2c8a2fe9ecc82e0bb411\n",
            "  Running setup.py bdist_wheel for grpcio ... \u001b[?25ldone\n",
            "\u001b[?25h  Stored in directory: /root/.cache/pip/wheels/00/4d/5f/07d0d4283911d2b917b867a11b1622d9d2cc8c286eefd10c33\n",
            "  Running setup.py bdist_wheel for absl-py ... \u001b[?25ldone\n",
            "\u001b[?25h  Stored in directory: /root/.cache/pip/wheels/8e/28/49/fad4e7f0b9a1227708cbbee4487ac8558a7334849cb81c813d\n",
            "Successfully built termcolor future fvcore grpcio absl-py\n",
            "Installing collected packages: termcolor, future, grpcio, tensorboard-plugin-wit, cachetools, pyasn1, pyasn1-modules, setuptools, rsa, google-auth, oauthlib, requests, requests-oauthlib, google-auth-oauthlib, absl-py, markdown, protobuf, tensorboard, pydot, yacs, tqdm, portalocker, tabulate, fvcore, detectron2\n",
            "  Found existing installation: setuptools 38.4.0\n",
            "    Uninstalling setuptools-38.4.0:\n",
            "      Successfully uninstalled setuptools-38.4.0\n",
            "  Found existing installation: requests 2.18.4\n",
            "    Uninstalling requests-2.18.4:\n",
            "      Successfully uninstalled requests-2.18.4\n",
            "Successfully installed absl-py-0.9.0 cachetools-4.1.0 detectron2-0.1.1+cu101 future-0.18.2 fvcore-0.1.dev200504 google-auth-1.14.1 google-auth-oauthlib-0.4.1 grpcio-1.28.1 markdown-3.2.1 oauthlib-3.1.0 portalocker-1.7.0 protobuf-3.11.3 pyasn1-0.4.8 pyasn1-modules-0.2.8 pydot-1.4.1 requests-2.23.0 requests-oauthlib-1.3.0 rsa-4.0 setuptools-46.1.3 tabulate-0.8.7 tensorboard-2.2.1 tensorboard-plugin-wit-1.6.0.post3 termcolor-1.1.0 tqdm-4.46.0 yacs-0.1.7\n"
          ],
          "name": "stdout"
        }
      ]
    },
    {
      "cell_type": "code",
      "metadata": {
        "id": "g-QCfZUjxVAl",
        "colab_type": "code",
        "colab": {}
      },
      "source": [
        "#Install pytorch3D before installing meshrcnn--- Look Below"
      ],
      "execution_count": 0,
      "outputs": []
    },
    {
      "cell_type": "code",
      "metadata": {
        "id": "JwhHIMS6kuez",
        "colab_type": "code",
        "colab": {}
      },
      "source": [
        "#Step 1\n",
        "!git clone https://github.com/facebookresearch/meshrcnn.git"
      ],
      "execution_count": 0,
      "outputs": []
    },
    {
      "cell_type": "code",
      "metadata": {
        "id": "ja-lhhYckxld",
        "colab_type": "code",
        "colab": {
          "base_uri": "https://localhost:8080/",
          "height": 34
        },
        "outputId": "b8f7e946-7829-4af1-b385-d5acb7270af7"
      },
      "source": [
        "#Step 2\n",
        "cd meshrcnn"
      ],
      "execution_count": 13,
      "outputs": [
        {
          "output_type": "stream",
          "text": [
            "/content/meshrcnn\n"
          ],
          "name": "stdout"
        }
      ]
    },
    {
      "cell_type": "code",
      "metadata": {
        "id": "8VyFZT4QncKo",
        "colab_type": "code",
        "colab": {
          "base_uri": "https://localhost:8080/",
          "height": 1000
        },
        "outputId": "d9084997-13a0-450b-dd12-0fd6c71ee64b"
      },
      "source": [
        "#Step 3\n",
        "!pip install -e ."
      ],
      "execution_count": 14,
      "outputs": [
        {
          "output_type": "stream",
          "text": [
            "Obtaining file:///content/meshrcnn\n",
            "Requirement already satisfied: torchvision>=0.4 in /usr/local/lib/python3.6/site-packages (from meshrcnn==1.0) (0.5.0)\n",
            "Requirement already satisfied: fvcore in /usr/local/lib/python3.6/site-packages (from meshrcnn==1.0) (0.1.dev200504)\n",
            "Requirement already satisfied: detectron2 in /usr/local/lib/python3.6/site-packages (from meshrcnn==1.0) (0.1.1+cu101)\n",
            "Collecting pytorch3d\n",
            "  Downloading pytorch3d-0.2.0-cp36-cp36m-manylinux1_x86_64.whl (9.1 MB)\n",
            "\u001b[K     |████████████████████████████████| 9.1 MB 10.1 MB/s \n",
            "\u001b[?25hRequirement already satisfied: numpy in /usr/local/lib/python3.6/site-packages (from torchvision>=0.4->meshrcnn==1.0) (1.14.2)\n",
            "Requirement already satisfied: six in /usr/local/lib/python3.6/site-packages (from torchvision>=0.4->meshrcnn==1.0) (1.14.0)\n",
            "Requirement already satisfied: torch in /usr/local/lib/python3.6/site-packages (from torchvision>=0.4->meshrcnn==1.0) (1.4.0)\n",
            "Requirement already satisfied: pillow>=4.1.1 in /usr/local/lib/python3.6/site-packages (from torchvision>=0.4->meshrcnn==1.0) (5.4.1)\n",
            "Requirement already satisfied: portalocker in /usr/local/lib/python3.6/site-packages (from fvcore->meshrcnn==1.0) (1.7.0)\n",
            "Collecting pyyaml>=5.1\n",
            "  Downloading PyYAML-5.3.1.tar.gz (269 kB)\n",
            "\u001b[K     |████████████████████████████████| 269 kB 56.1 MB/s \n",
            "\u001b[?25hRequirement already satisfied: yacs>=0.1.6 in /usr/local/lib/python3.6/site-packages (from fvcore->meshrcnn==1.0) (0.1.7)\n",
            "Requirement already satisfied: termcolor>=1.1 in /usr/local/lib/python3.6/site-packages (from fvcore->meshrcnn==1.0) (1.1.0)\n",
            "Requirement already satisfied: tabulate in /usr/local/lib/python3.6/site-packages (from fvcore->meshrcnn==1.0) (0.8.7)\n",
            "Requirement already satisfied: tqdm in /usr/local/lib/python3.6/site-packages (from fvcore->meshrcnn==1.0) (4.46.0)\n",
            "Requirement already satisfied: matplotlib in /usr/local/lib/python3.6/site-packages (from detectron2->meshrcnn==1.0) (2.1.2)\n",
            "Requirement already satisfied: future in /usr/local/lib/python3.6/site-packages (from detectron2->meshrcnn==1.0) (0.18.2)\n",
            "Requirement already satisfied: tensorboard in /usr/local/lib/python3.6/site-packages (from detectron2->meshrcnn==1.0) (2.2.1)\n",
            "Requirement already satisfied: pydot in /usr/local/lib/python3.6/site-packages (from detectron2->meshrcnn==1.0) (1.4.1)\n",
            "Requirement already satisfied: cloudpickle in /usr/local/lib/python3.6/site-packages (from detectron2->meshrcnn==1.0) (0.5.2)\n",
            "Requirement already satisfied: python-dateutil>=2.1 in /usr/local/lib/python3.6/site-packages (from matplotlib->detectron2->meshrcnn==1.0) (2.6.1)\n",
            "Requirement already satisfied: pytz in /usr/local/lib/python3.6/site-packages (from matplotlib->detectron2->meshrcnn==1.0) (2017.3)\n",
            "Requirement already satisfied: cycler>=0.10 in /usr/local/lib/python3.6/site-packages (from matplotlib->detectron2->meshrcnn==1.0) (0.10.0)\n",
            "Requirement already satisfied: pyparsing!=2.0.4,!=2.1.2,!=2.1.6,>=2.0.1 in /usr/local/lib/python3.6/site-packages (from matplotlib->detectron2->meshrcnn==1.0) (2.2.0)\n",
            "Requirement already satisfied: markdown>=2.6.8 in /usr/local/lib/python3.6/site-packages (from tensorboard->detectron2->meshrcnn==1.0) (3.2.1)\n",
            "Requirement already satisfied: google-auth-oauthlib<0.5,>=0.4.1 in /usr/local/lib/python3.6/site-packages (from tensorboard->detectron2->meshrcnn==1.0) (0.4.1)\n",
            "Requirement already satisfied: grpcio>=1.24.3 in /usr/local/lib/python3.6/site-packages (from tensorboard->detectron2->meshrcnn==1.0) (1.28.1)\n",
            "Requirement already satisfied: wheel>=0.26; python_version >= \"3\" in /usr/local/lib/python3.6/site-packages (from tensorboard->detectron2->meshrcnn==1.0) (0.34.2)\n",
            "Requirement already satisfied: werkzeug>=0.11.15 in /usr/local/lib/python3.6/site-packages (from tensorboard->detectron2->meshrcnn==1.0) (0.14.1)\n",
            "Requirement already satisfied: absl-py>=0.4 in /usr/local/lib/python3.6/site-packages (from tensorboard->detectron2->meshrcnn==1.0) (0.9.0)\n",
            "Requirement already satisfied: google-auth<2,>=1.6.3 in /usr/local/lib/python3.6/site-packages (from tensorboard->detectron2->meshrcnn==1.0) (1.14.1)\n",
            "Requirement already satisfied: tensorboard-plugin-wit>=1.6.0 in /usr/local/lib/python3.6/site-packages (from tensorboard->detectron2->meshrcnn==1.0) (1.6.0.post3)\n",
            "Requirement already satisfied: setuptools>=41.0.0 in /usr/local/lib/python3.6/site-packages (from tensorboard->detectron2->meshrcnn==1.0) (46.1.3.post20200330)\n",
            "Requirement already satisfied: protobuf>=3.6.0 in /usr/local/lib/python3.6/site-packages (from tensorboard->detectron2->meshrcnn==1.0) (3.11.3)\n",
            "Requirement already satisfied: requests<3,>=2.21.0 in /usr/local/lib/python3.6/site-packages (from tensorboard->detectron2->meshrcnn==1.0) (2.23.0)\n",
            "Requirement already satisfied: requests-oauthlib>=0.7.0 in /usr/local/lib/python3.6/site-packages (from google-auth-oauthlib<0.5,>=0.4.1->tensorboard->detectron2->meshrcnn==1.0) (1.3.0)\n",
            "Requirement already satisfied: cachetools<5.0,>=2.0.0 in /usr/local/lib/python3.6/site-packages (from google-auth<2,>=1.6.3->tensorboard->detectron2->meshrcnn==1.0) (4.1.0)\n",
            "Requirement already satisfied: rsa<4.1,>=3.1.4 in /usr/local/lib/python3.6/site-packages (from google-auth<2,>=1.6.3->tensorboard->detectron2->meshrcnn==1.0) (4.0)\n",
            "Requirement already satisfied: pyasn1-modules>=0.2.1 in /usr/local/lib/python3.6/site-packages (from google-auth<2,>=1.6.3->tensorboard->detectron2->meshrcnn==1.0) (0.2.8)\n",
            "Requirement already satisfied: idna<3,>=2.5 in /usr/local/lib/python3.6/site-packages (from requests<3,>=2.21.0->tensorboard->detectron2->meshrcnn==1.0) (2.6)\n",
            "Requirement already satisfied: urllib3!=1.25.0,!=1.25.1,<1.26,>=1.21.1 in /usr/local/lib/python3.6/site-packages (from requests<3,>=2.21.0->tensorboard->detectron2->meshrcnn==1.0) (1.22)\n",
            "Requirement already satisfied: chardet<4,>=3.0.2 in /usr/local/lib/python3.6/site-packages (from requests<3,>=2.21.0->tensorboard->detectron2->meshrcnn==1.0) (3.0.4)\n",
            "Requirement already satisfied: certifi>=2017.4.17 in /usr/local/lib/python3.6/site-packages (from requests<3,>=2.21.0->tensorboard->detectron2->meshrcnn==1.0) (2020.4.5.1)\n",
            "Requirement already satisfied: oauthlib>=3.0.0 in /usr/local/lib/python3.6/site-packages (from requests-oauthlib>=0.7.0->google-auth-oauthlib<0.5,>=0.4.1->tensorboard->detectron2->meshrcnn==1.0) (3.1.0)\n",
            "Requirement already satisfied: pyasn1>=0.1.3 in /usr/local/lib/python3.6/site-packages (from rsa<4.1,>=3.1.4->google-auth<2,>=1.6.3->tensorboard->detectron2->meshrcnn==1.0) (0.4.8)\n",
            "Building wheels for collected packages: pyyaml\n",
            "  Building wheel for pyyaml (setup.py) ... \u001b[?25l\u001b[?25hdone\n",
            "  Created wheel for pyyaml: filename=PyYAML-5.3.1-cp36-cp36m-linux_x86_64.whl size=402235 sha256=6dd4df4108c64893b901b931dde6d88bf6b2bebb54bed352980860922ecb43e7\n",
            "  Stored in directory: /root/.cache/pip/wheels/e5/9d/ad/2ee53cf262cba1ffd8afe1487eef788ea3f260b7e6232a80fc\n",
            "Successfully built pyyaml\n",
            "Installing collected packages: pytorch3d, meshrcnn, pyyaml\n",
            "  Running setup.py develop for meshrcnn\n",
            "  Attempting uninstall: pyyaml\n",
            "    Found existing installation: PyYAML 3.12\n",
            "\u001b[31mERROR: Cannot uninstall 'PyYAML'. It is a distutils installed project and thus we cannot accurately determine which files belong to it which would lead to only a partial uninstall.\u001b[0m\n"
          ],
          "name": "stdout"
        }
      ]
    },
    {
      "cell_type": "code",
      "metadata": {
        "id": "oPvFDl6ds6GC",
        "colab_type": "code",
        "colab": {}
      },
      "source": [
        "#To upload the image\n",
        "from google.colab import files\n",
        "files.upload()"
      ],
      "execution_count": 0,
      "outputs": []
    },
    {
      "cell_type": "code",
      "metadata": {
        "id": "ijWgdESfndhc",
        "colab_type": "code",
        "colab": {
          "base_uri": "https://localhost:8080/",
          "height": 71
        },
        "outputId": "e924e49c-09af-41a8-ef66-23876334c311"
      },
      "source": [
        "#Finally run the demo\n",
        "!python demo/demo.py \\\n",
        "--config-file configs/pix3d/meshrcnn_R50_FPN.yaml \\\n",
        "--input /content/meshrcnn/meshrcnn.jpg \\\n",
        "--output output_demo \\\n",
        "--onlyhighest MODEL.WEIGHTS meshrcnn://meshrcnn_R50.pth"
      ],
      "execution_count": 31,
      "outputs": [
        {
          "output_type": "stream",
          "text": [
            "\u001b[32m[05/04 17:22:28 demo]: \u001b[0mArguments: Namespace(config_file='configs/pix3d/meshrcnn_R50_FPN.yaml', focal_length=20.0, input='/content/meshrcnn/meshrcnn.jpg', onlyhighest=True, opts=['MODEL.WEIGHTS', 'meshrcnn://meshrcnn_R50.pth'], output='output_demo')\n",
            "\u001b[32m[05/04 17:22:33 demo]: \u001b[0mPredictions saved in output_demo/meshrcnn\n"
          ],
          "name": "stdout"
        }
      ]
    },
    {
      "cell_type": "code",
      "metadata": {
        "id": "g8Ee3bxgsaMU",
        "colab_type": "code",
        "colab": {
          "base_uri": "https://localhost:8080/",
          "height": 119
        },
        "outputId": "a62e9bb7-d15a-4c8d-d3b6-9c67ba2a75c4"
      },
      "source": [
        "#Install only if asked\n",
        "!pip install opencv-python"
      ],
      "execution_count": 26,
      "outputs": [
        {
          "output_type": "stream",
          "text": [
            "Collecting opencv-python\n",
            "  Downloading opencv_python-4.2.0.34-cp36-cp36m-manylinux1_x86_64.whl (28.2 MB)\n",
            "\u001b[K     |████████████████████████████████| 28.2 MB 78 kB/s \n",
            "\u001b[?25hRequirement already satisfied: numpy>=1.11.3 in /usr/local/lib/python3.6/site-packages (from opencv-python) (1.14.2)\n",
            "Installing collected packages: opencv-python\n",
            "Successfully installed opencv-python-4.2.0.34\n"
          ],
          "name": "stdout"
        }
      ]
    },
    {
      "cell_type": "code",
      "metadata": {
        "id": "z0B6fd6mn_fe",
        "colab_type": "code",
        "colab": {
          "base_uri": "https://localhost:8080/",
          "height": 207
        },
        "outputId": "2e528555-7ae8-4b22-95a5-6a361abeda38"
      },
      "source": [
        "#Install only if asked\n",
        "!pip install pycocotools"
      ],
      "execution_count": 16,
      "outputs": [
        {
          "output_type": "stream",
          "text": [
            "Collecting pycocotools\n",
            "  Downloading pycocotools-2.0.0.tar.gz (1.5 MB)\n",
            "\u001b[?25l\r\u001b[K     |▏                               | 10 kB 35.2 MB/s eta 0:00:01\r\u001b[K     |▍                               | 20 kB 32.9 MB/s eta 0:00:01\r\u001b[K     |▋                               | 30 kB 37.6 MB/s eta 0:00:01\r\u001b[K     |▉                               | 40 kB 40.6 MB/s eta 0:00:01\r\u001b[K     |█                               | 51 kB 27.7 MB/s eta 0:00:01\r\u001b[K     |█▎                              | 61 kB 30.4 MB/s eta 0:00:01\r\u001b[K     |█▌                              | 71 kB 23.9 MB/s eta 0:00:01\r\u001b[K     |█▊                              | 81 kB 25.2 MB/s eta 0:00:01\r\u001b[K     |██                              | 92 kB 26.9 MB/s eta 0:00:01\r\u001b[K     |██▏                             | 102 kB 24.9 MB/s eta 0:00:01\r\u001b[K     |██▍                             | 112 kB 24.9 MB/s eta 0:00:01\r\u001b[K     |██▋                             | 122 kB 24.9 MB/s eta 0:00:01\r\u001b[K     |██▉                             | 133 kB 24.9 MB/s eta 0:00:01\r\u001b[K     |███                             | 143 kB 24.9 MB/s eta 0:00:01\r\u001b[K     |███▎                            | 153 kB 24.9 MB/s eta 0:00:01\r\u001b[K     |███▌                            | 163 kB 24.9 MB/s eta 0:00:01\r\u001b[K     |███▊                            | 174 kB 24.9 MB/s eta 0:00:01\r\u001b[K     |████                            | 184 kB 24.9 MB/s eta 0:00:01\r\u001b[K     |████▏                           | 194 kB 24.9 MB/s eta 0:00:01\r\u001b[K     |████▍                           | 204 kB 24.9 MB/s eta 0:00:01\r\u001b[K     |████▋                           | 215 kB 24.9 MB/s eta 0:00:01\r\u001b[K     |████▉                           | 225 kB 24.9 MB/s eta 0:00:01\r\u001b[K     |█████                           | 235 kB 24.9 MB/s eta 0:00:01\r\u001b[K     |█████▎                          | 245 kB 24.9 MB/s eta 0:00:01\r\u001b[K     |█████▌                          | 256 kB 24.9 MB/s eta 0:00:01\r\u001b[K     |█████▊                          | 266 kB 24.9 MB/s eta 0:00:01\r\u001b[K     |██████                          | 276 kB 24.9 MB/s eta 0:00:01\r\u001b[K     |██████▏                         | 286 kB 24.9 MB/s eta 0:00:01\r\u001b[K     |██████▍                         | 296 kB 24.9 MB/s eta 0:00:01\r\u001b[K     |██████▋                         | 307 kB 24.9 MB/s eta 0:00:01\r\u001b[K     |██████▉                         | 317 kB 24.9 MB/s eta 0:00:01\r\u001b[K     |███████                         | 327 kB 24.9 MB/s eta 0:00:01\r\u001b[K     |███████▎                        | 337 kB 24.9 MB/s eta 0:00:01\r\u001b[K     |███████▌                        | 348 kB 24.9 MB/s eta 0:00:01\r\u001b[K     |███████▊                        | 358 kB 24.9 MB/s eta 0:00:01\r\u001b[K     |████████                        | 368 kB 24.9 MB/s eta 0:00:01\r\u001b[K     |████████▏                       | 378 kB 24.9 MB/s eta 0:00:01\r\u001b[K     |████████▍                       | 389 kB 24.9 MB/s eta 0:00:01\r\u001b[K     |████████▋                       | 399 kB 24.9 MB/s eta 0:00:01\r\u001b[K     |████████▉                       | 409 kB 24.9 MB/s eta 0:00:01\r\u001b[K     |█████████                       | 419 kB 24.9 MB/s eta 0:00:01\r\u001b[K     |█████████▎                      | 430 kB 24.9 MB/s eta 0:00:01\r\u001b[K     |█████████▌                      | 440 kB 24.9 MB/s eta 0:00:01\r\u001b[K     |█████████▊                      | 450 kB 24.9 MB/s eta 0:00:01\r\u001b[K     |██████████                      | 460 kB 24.9 MB/s eta 0:00:01\r\u001b[K     |██████████▏                     | 471 kB 24.9 MB/s eta 0:00:01\r\u001b[K     |██████████▍                     | 481 kB 24.9 MB/s eta 0:00:01\r\u001b[K     |██████████▋                     | 491 kB 24.9 MB/s eta 0:00:01\r\u001b[K     |██████████▉                     | 501 kB 24.9 MB/s eta 0:00:01\r\u001b[K     |███████████                     | 512 kB 24.9 MB/s eta 0:00:01\r\u001b[K     |███████████▎                    | 522 kB 24.9 MB/s eta 0:00:01\r\u001b[K     |███████████▌                    | 532 kB 24.9 MB/s eta 0:00:01\r\u001b[K     |███████████▊                    | 542 kB 24.9 MB/s eta 0:00:01\r\u001b[K     |████████████                    | 552 kB 24.9 MB/s eta 0:00:01\r\u001b[K     |████████████▏                   | 563 kB 24.9 MB/s eta 0:00:01\r\u001b[K     |████████████▍                   | 573 kB 24.9 MB/s eta 0:00:01\r\u001b[K     |████████████▋                   | 583 kB 24.9 MB/s eta 0:00:01\r\u001b[K     |████████████▉                   | 593 kB 24.9 MB/s eta 0:00:01\r\u001b[K     |█████████████                   | 604 kB 24.9 MB/s eta 0:00:01\r\u001b[K     |█████████████▎                  | 614 kB 24.9 MB/s eta 0:00:01\r\u001b[K     |█████████████▌                  | 624 kB 24.9 MB/s eta 0:00:01\r\u001b[K     |█████████████▊                  | 634 kB 24.9 MB/s eta 0:00:01\r\u001b[K     |██████████████                  | 645 kB 24.9 MB/s eta 0:00:01\r\u001b[K     |██████████████▏                 | 655 kB 24.9 MB/s eta 0:00:01\r\u001b[K     |██████████████▍                 | 665 kB 24.9 MB/s eta 0:00:01\r\u001b[K     |██████████████▋                 | 675 kB 24.9 MB/s eta 0:00:01\r\u001b[K     |██████████████▉                 | 686 kB 24.9 MB/s eta 0:00:01\r\u001b[K     |███████████████                 | 696 kB 24.9 MB/s eta 0:00:01\r\u001b[K     |███████████████▎                | 706 kB 24.9 MB/s eta 0:00:01\r\u001b[K     |███████████████▌                | 716 kB 24.9 MB/s eta 0:00:01\r\u001b[K     |███████████████▊                | 727 kB 24.9 MB/s eta 0:00:01\r\u001b[K     |████████████████                | 737 kB 24.9 MB/s eta 0:00:01\r\u001b[K     |████████████████▏               | 747 kB 24.9 MB/s eta 0:00:01\r\u001b[K     |████████████████▍               | 757 kB 24.9 MB/s eta 0:00:01\r\u001b[K     |████████████████▋               | 768 kB 24.9 MB/s eta 0:00:01\r\u001b[K     |████████████████▉               | 778 kB 24.9 MB/s eta 0:00:01\r\u001b[K     |█████████████████               | 788 kB 24.9 MB/s eta 0:00:01\r\u001b[K     |█████████████████▎              | 798 kB 24.9 MB/s eta 0:00:01\r\u001b[K     |█████████████████▌              | 808 kB 24.9 MB/s eta 0:00:01\r\u001b[K     |█████████████████▊              | 819 kB 24.9 MB/s eta 0:00:01\r\u001b[K     |██████████████████              | 829 kB 24.9 MB/s eta 0:00:01\r\u001b[K     |██████████████████▏             | 839 kB 24.9 MB/s eta 0:00:01\r\u001b[K     |██████████████████▍             | 849 kB 24.9 MB/s eta 0:00:01\r\u001b[K     |██████████████████▋             | 860 kB 24.9 MB/s eta 0:00:01\r\u001b[K     |██████████████████▉             | 870 kB 24.9 MB/s eta 0:00:01\r\u001b[K     |███████████████████             | 880 kB 24.9 MB/s eta 0:00:01\r\u001b[K     |███████████████████▎            | 890 kB 24.9 MB/s eta 0:00:01\r\u001b[K     |███████████████████▌            | 901 kB 24.9 MB/s eta 0:00:01\r\u001b[K     |███████████████████▊            | 911 kB 24.9 MB/s eta 0:00:01\r\u001b[K     |████████████████████            | 921 kB 24.9 MB/s eta 0:00:01\r\u001b[K     |████████████████████▏           | 931 kB 24.9 MB/s eta 0:00:01\r\u001b[K     |████████████████████▍           | 942 kB 24.9 MB/s eta 0:00:01\r\u001b[K     |████████████████████▋           | 952 kB 24.9 MB/s eta 0:00:01\r\u001b[K     |████████████████████▉           | 962 kB 24.9 MB/s eta 0:00:01\r\u001b[K     |█████████████████████           | 972 kB 24.9 MB/s eta 0:00:01\r\u001b[K     |█████████████████████▎          | 983 kB 24.9 MB/s eta 0:00:01\r\u001b[K     |█████████████████████▌          | 993 kB 24.9 MB/s eta 0:00:01\r\u001b[K     |█████████████████████▊          | 1.0 MB 24.9 MB/s eta 0:00:01\r\u001b[K     |██████████████████████          | 1.0 MB 24.9 MB/s eta 0:00:01\r\u001b[K     |██████████████████████▏         | 1.0 MB 24.9 MB/s eta 0:00:01\r\u001b[K     |██████████████████████▍         | 1.0 MB 24.9 MB/s eta 0:00:01\r\u001b[K     |██████████████████████▋         | 1.0 MB 24.9 MB/s eta 0:00:01\r\u001b[K     |██████████████████████▉         | 1.1 MB 24.9 MB/s eta 0:00:01\r\u001b[K     |███████████████████████         | 1.1 MB 24.9 MB/s eta 0:00:01\r\u001b[K     |███████████████████████▎        | 1.1 MB 24.9 MB/s eta 0:00:01\r\u001b[K     |███████████████████████▌        | 1.1 MB 24.9 MB/s eta 0:00:01\r\u001b[K     |███████████████████████▊        | 1.1 MB 24.9 MB/s eta 0:00:01\r\u001b[K     |████████████████████████        | 1.1 MB 24.9 MB/s eta 0:00:01\r\u001b[K     |████████████████████████▏       | 1.1 MB 24.9 MB/s eta 0:00:01\r\u001b[K     |████████████████████████▍       | 1.1 MB 24.9 MB/s eta 0:00:01\r\u001b[K     |████████████████████████▋       | 1.1 MB 24.9 MB/s eta 0:00:01\r\u001b[K     |████████████████████████▉       | 1.1 MB 24.9 MB/s eta 0:00:01\r\u001b[K     |█████████████████████████       | 1.2 MB 24.9 MB/s eta 0:00:01\r\u001b[K     |█████████████████████████▎      | 1.2 MB 24.9 MB/s eta 0:00:01\r\u001b[K     |█████████████████████████▌      | 1.2 MB 24.9 MB/s eta 0:00:01\r\u001b[K     |█████████████████████████▊      | 1.2 MB 24.9 MB/s eta 0:00:01\r\u001b[K     |██████████████████████████      | 1.2 MB 24.9 MB/s eta 0:00:01\r\u001b[K     |██████████████████████████▏     | 1.2 MB 24.9 MB/s eta 0:00:01\r\u001b[K     |██████████████████████████▍     | 1.2 MB 24.9 MB/s eta 0:00:01\r\u001b[K     |██████████████████████████▋     | 1.2 MB 24.9 MB/s eta 0:00:01\r\u001b[K     |██████████████████████████▉     | 1.2 MB 24.9 MB/s eta 0:00:01\r\u001b[K     |███████████████████████████     | 1.2 MB 24.9 MB/s eta 0:00:01\r\u001b[K     |███████████████████████████▎    | 1.3 MB 24.9 MB/s eta 0:00:01\r\u001b[K     |███████████████████████████▌    | 1.3 MB 24.9 MB/s eta 0:00:01\r\u001b[K     |███████████████████████████▊    | 1.3 MB 24.9 MB/s eta 0:00:01\r\u001b[K     |████████████████████████████    | 1.3 MB 24.9 MB/s eta 0:00:01\r\u001b[K     |████████████████████████████▏   | 1.3 MB 24.9 MB/s eta 0:00:01\r\u001b[K     |████████████████████████████▍   | 1.3 MB 24.9 MB/s eta 0:00:01\r\u001b[K     |████████████████████████████▋   | 1.3 MB 24.9 MB/s eta 0:00:01\r\u001b[K     |████████████████████████████▉   | 1.3 MB 24.9 MB/s eta 0:00:01\r\u001b[K     |█████████████████████████████   | 1.3 MB 24.9 MB/s eta 0:00:01\r\u001b[K     |█████████████████████████████▎  | 1.4 MB 24.9 MB/s eta 0:00:01\r\u001b[K     |█████████████████████████████▌  | 1.4 MB 24.9 MB/s eta 0:00:01\r\u001b[K     |█████████████████████████████▊  | 1.4 MB 24.9 MB/s eta 0:00:01\r\u001b[K     |██████████████████████████████  | 1.4 MB 24.9 MB/s eta 0:00:01\r\u001b[K     |██████████████████████████████▏ | 1.4 MB 24.9 MB/s eta 0:00:01\r\u001b[K     |██████████████████████████████▍ | 1.4 MB 24.9 MB/s eta 0:00:01\r\u001b[K     |██████████████████████████████▋ | 1.4 MB 24.9 MB/s eta 0:00:01\r\u001b[K     |██████████████████████████████▉ | 1.4 MB 24.9 MB/s eta 0:00:01\r\u001b[K     |███████████████████████████████ | 1.4 MB 24.9 MB/s eta 0:00:01\r\u001b[K     |███████████████████████████████▎| 1.4 MB 24.9 MB/s eta 0:00:01\r\u001b[K     |███████████████████████████████▌| 1.5 MB 24.9 MB/s eta 0:00:01\r\u001b[K     |███████████████████████████████▊| 1.5 MB 24.9 MB/s eta 0:00:01\r\u001b[K     |████████████████████████████████| 1.5 MB 24.9 MB/s eta 0:00:01\r\u001b[K     |████████████████████████████████| 1.5 MB 24.9 MB/s \n",
            "\u001b[?25hBuilding wheels for collected packages: pycocotools\n",
            "  Building wheel for pycocotools (setup.py) ... \u001b[?25l\u001b[?25hdone\n",
            "  Created wheel for pycocotools: filename=pycocotools-2.0.0-cp36-cp36m-linux_x86_64.whl size=294333 sha256=e8daea521708729979fbba5277ed84013cc2f32c2a213e0d59f09f63e27cca29\n",
            "  Stored in directory: /root/.cache/pip/wheels/64/7a/c0/ac8f633d11a5f1a6902c72acb9fa828a2bb3639afba4e94a6c\n",
            "Successfully built pycocotools\n",
            "Installing collected packages: pycocotools\n",
            "Successfully installed pycocotools-2.0.0\n"
          ],
          "name": "stdout"
        }
      ]
    },
    {
      "cell_type": "code",
      "metadata": {
        "id": "krUEvSP-oaa6",
        "colab_type": "code",
        "colab": {
          "base_uri": "https://localhost:8080/",
          "height": 136
        },
        "outputId": "18e10169-d97e-4ee7-a5b3-b85d60fdfec4"
      },
      "source": [
        "#Installing Pytorch3D\n",
        "#Step 1\n",
        "!git clone https://github.com/facebookresearch/pytorch3d.git"
      ],
      "execution_count": 18,
      "outputs": [
        {
          "output_type": "stream",
          "text": [
            "Cloning into 'pytorch3d'...\n",
            "remote: Enumerating objects: 65, done.\u001b[K\n",
            "remote: Counting objects:   1% (1/65)\u001b[K\rremote: Counting objects:   3% (2/65)\u001b[K\rremote: Counting objects:   4% (3/65)\u001b[K\rremote: Counting objects:   6% (4/65)\u001b[K\rremote: Counting objects:   7% (5/65)\u001b[K\rremote: Counting objects:   9% (6/65)\u001b[K\rremote: Counting objects:  10% (7/65)\u001b[K\rremote: Counting objects:  12% (8/65)\u001b[K\rremote: Counting objects:  13% (9/65)\u001b[K\rremote: Counting objects:  15% (10/65)\u001b[K\rremote: Counting objects:  16% (11/65)\u001b[K\rremote: Counting objects:  18% (12/65)\u001b[K\rremote: Counting objects:  20% (13/65)\u001b[K\rremote: Counting objects:  21% (14/65)\u001b[K\rremote: Counting objects:  23% (15/65)\u001b[K\rremote: Counting objects:  24% (16/65)\u001b[K\rremote: Counting objects:  26% (17/65)\u001b[K\rremote: Counting objects:  27% (18/65)\u001b[K\rremote: Counting objects:  29% (19/65)\u001b[K\rremote: Counting objects:  30% (20/65)\u001b[K\rremote: Counting objects:  32% (21/65)\u001b[K\rremote: Counting objects:  33% (22/65)\u001b[K\rremote: Counting objects:  35% (23/65)\u001b[K\rremote: Counting objects:  36% (24/65)\u001b[K\rremote: Counting objects:  38% (25/65)\u001b[K\rremote: Counting objects:  40% (26/65)\u001b[K\rremote: Counting objects:  41% (27/65)\u001b[K\rremote: Counting objects:  43% (28/65)\u001b[K\rremote: Counting objects:  44% (29/65)\u001b[K\rremote: Counting objects:  46% (30/65)\u001b[K\rremote: Counting objects:  47% (31/65)\u001b[K\rremote: Counting objects:  49% (32/65)\u001b[K\rremote: Counting objects:  50% (33/65)\u001b[K\rremote: Counting objects:  52% (34/65)\u001b[K\rremote: Counting objects:  53% (35/65)\u001b[K\rremote: Counting objects:  55% (36/65)\u001b[K\rremote: Counting objects:  56% (37/65)\u001b[K\rremote: Counting objects:  58% (38/65)\u001b[K\rremote: Counting objects:  60% (39/65)\u001b[K\rremote: Counting objects:  61% (40/65)\u001b[K\rremote: Counting objects:  63% (41/65)\u001b[K\rremote: Counting objects:  64% (42/65)\u001b[K\rremote: Counting objects:  66% (43/65)\u001b[K\rremote: Counting objects:  67% (44/65)\u001b[K\rremote: Counting objects:  69% (45/65)\u001b[K\rremote: Counting objects:  70% (46/65)\u001b[K\rremote: Counting objects:  72% (47/65)\u001b[K\rremote: Counting objects:  73% (48/65)\u001b[K\rremote: Counting objects:  75% (49/65)\u001b[K\rremote: Counting objects:  76% (50/65)\u001b[K\rremote: Counting objects:  78% (51/65)\u001b[K\rremote: Counting objects:  80% (52/65)\u001b[K\rremote: Counting objects:  81% (53/65)\u001b[K\rremote: Counting objects:  83% (54/65)\rremote: Counting objects:  84% (55/65)\u001b[K\rremote: Counting objects:  86% (56/65)\u001b[K\rremote: Counting objects:  87% (57/65)\u001b[K\rremote: Counting objects:  89% (58/65)\u001b[K\rremote: Counting objects:  90% (59/65)\u001b[K\rremote: Counting objects:  92% (60/65)\u001b[K\rremote: Counting objects:  93% (61/65)\u001b[K\rremote: Counting objects:  95% (62/65)\u001b[K\rremote: Counting objects:  96% (63/65)\u001b[K\rremote: Counting objects:  98% (64/65)\u001b[K\rremote: Counting objects: 100% (65/65)\u001b[K\rremote: Counting objects: 100% (65/65), done.\u001b[K\n",
            "remote: Compressing objects: 100% (56/56), done.\u001b[K\n",
            "remote: Total 2069 (delta 19), reused 26 (delta 9), pack-reused 2004\u001b[K\n",
            "Receiving objects: 100% (2069/2069), 17.57 MiB | 6.07 MiB/s, done.\n",
            "Resolving deltas: 100% (1284/1284), done.\n"
          ],
          "name": "stdout"
        }
      ]
    },
    {
      "cell_type": "code",
      "metadata": {
        "id": "waWC2wxapzlA",
        "colab_type": "code",
        "colab": {
          "base_uri": "https://localhost:8080/",
          "height": 34
        },
        "outputId": "c1dbc0b4-29fd-4ca6-85d3-f0fcaf294e4b"
      },
      "source": [
        "#Step 2\n",
        "cd pytorch3d"
      ],
      "execution_count": 21,
      "outputs": [
        {
          "output_type": "stream",
          "text": [
            "/content/meshrcnn/pytorch3d\n"
          ],
          "name": "stdout"
        }
      ]
    },
    {
      "cell_type": "code",
      "metadata": {
        "id": "z_cg6bhKppq3",
        "colab_type": "code",
        "colab": {
          "base_uri": "https://localhost:8080/",
          "height": 411
        },
        "outputId": "339efc79-ec7e-4411-b30f-6214233241ae"
      },
      "source": [
        "#Step 3\n",
        "!pip install -e ."
      ],
      "execution_count": 22,
      "outputs": [
        {
          "output_type": "stream",
          "text": [
            "Obtaining file:///content/meshrcnn/pytorch3d\n",
            "Requirement already satisfied: torchvision>=0.4 in /usr/local/lib/python3.6/site-packages (from pytorch3d==0.2.0) (0.5.0)\n",
            "Requirement already satisfied: fvcore in /usr/local/lib/python3.6/site-packages (from pytorch3d==0.2.0) (0.1.dev200504)\n",
            "Requirement already satisfied: numpy in /usr/local/lib/python3.6/site-packages (from torchvision>=0.4->pytorch3d==0.2.0) (1.14.2)\n",
            "Requirement already satisfied: six in /usr/local/lib/python3.6/site-packages (from torchvision>=0.4->pytorch3d==0.2.0) (1.14.0)\n",
            "Requirement already satisfied: torch in /usr/local/lib/python3.6/site-packages (from torchvision>=0.4->pytorch3d==0.2.0) (1.4.0)\n",
            "Requirement already satisfied: pillow>=4.1.1 in /usr/local/lib/python3.6/site-packages (from torchvision>=0.4->pytorch3d==0.2.0) (5.4.1)\n",
            "Processing /root/.cache/pip/wheels/e5/9d/ad/2ee53cf262cba1ffd8afe1487eef788ea3f260b7e6232a80fc/PyYAML-5.3.1-cp36-cp36m-linux_x86_64.whl\n",
            "Requirement already satisfied: portalocker in /usr/local/lib/python3.6/site-packages (from fvcore->pytorch3d==0.2.0) (1.7.0)\n",
            "Requirement already satisfied: tabulate in /usr/local/lib/python3.6/site-packages (from fvcore->pytorch3d==0.2.0) (0.8.7)\n",
            "Requirement already satisfied: yacs>=0.1.6 in /usr/local/lib/python3.6/site-packages (from fvcore->pytorch3d==0.2.0) (0.1.7)\n",
            "Requirement already satisfied: termcolor>=1.1 in /usr/local/lib/python3.6/site-packages (from fvcore->pytorch3d==0.2.0) (1.1.0)\n",
            "Requirement already satisfied: tqdm in /usr/local/lib/python3.6/site-packages (from fvcore->pytorch3d==0.2.0) (4.46.0)\n",
            "Installing collected packages: pytorch3d, pyyaml\n",
            "  Attempting uninstall: pytorch3d\n",
            "    Found existing installation: pytorch3d 0.2.0\n",
            "    Uninstalling pytorch3d-0.2.0:\n",
            "      Successfully uninstalled pytorch3d-0.2.0\n",
            "  Running setup.py develop for pytorch3d\n",
            "  Attempting uninstall: pyyaml\n",
            "    Found existing installation: PyYAML 3.12\n",
            "\u001b[31mERROR: Cannot uninstall 'PyYAML'. It is a distutils installed project and thus we cannot accurately determine which files belong to it which would lead to only a partial uninstall.\u001b[0m\n"
          ],
          "name": "stdout"
        }
      ]
    },
    {
      "cell_type": "code",
      "metadata": {
        "id": "76N_FFI9p7Nk",
        "colab_type": "code",
        "colab": {}
      },
      "source": [
        ""
      ],
      "execution_count": 0,
      "outputs": []
    }
  ]
}