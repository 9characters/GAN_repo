{
  "nbformat": 4,
  "nbformat_minor": 0,
  "metadata": {
    "colab": {
      "name": "Untitled11.ipynb",
      "provenance": [],
      "authorship_tag": "ABX9TyOck7CmX9M5EerQ7jlitaX5",
      "include_colab_link": true
    },
    "kernelspec": {
      "name": "python3",
      "display_name": "Python 3"
    }
  },
  "cells": [
    {
      "cell_type": "markdown",
      "metadata": {
        "id": "view-in-github",
        "colab_type": "text"
      },
      "source": [
        "<a href=\"https://colab.research.google.com/github/9characters/GAN_repo/blob/master/Untitled11.ipynb\" target=\"_parent\"><img src=\"https://colab.research.google.com/assets/colab-badge.svg\" alt=\"Open In Colab\"/></a>"
      ]
    },
    {
      "cell_type": "code",
      "metadata": {
        "id": "JRtQgo-tUw_a",
        "colab_type": "code",
        "outputId": "596bb60e-f2db-4e1f-dad4-7e0a360635de",
        "colab": {
          "base_uri": "https://localhost:8080/",
          "height": 102
        }
      },
      "source": [
        "%tensorflow_version 1.5"
      ],
      "execution_count": 1,
      "outputs": [
        {
          "output_type": "stream",
          "text": [
            "`%tensorflow_version` only switches the major version: 1.x or 2.x.\n",
            "You set: `1.5`. This will be interpreted as: `1.x`.\n",
            "\n",
            "\n",
            "TensorFlow 1.x selected.\n"
          ],
          "name": "stdout"
        }
      ]
    },
    {
      "cell_type": "code",
      "metadata": {
        "id": "zUo4TvFyVIWW",
        "colab_type": "code",
        "colab": {}
      },
      "source": [
        "import tensorflow as tf"
      ],
      "execution_count": 0,
      "outputs": []
    },
    {
      "cell_type": "code",
      "metadata": {
        "id": "GCL0kpEIVpz-",
        "colab_type": "code",
        "outputId": "afc5ce9b-ba96-4819-9573-0f29cd35c9f8",
        "colab": {
          "base_uri": "https://localhost:8080/",
          "height": 34
        }
      },
      "source": [
        "print(tf.__version__)"
      ],
      "execution_count": 0,
      "outputs": [
        {
          "output_type": "stream",
          "text": [
            "1.15.2\n"
          ],
          "name": "stdout"
        }
      ]
    },
    {
      "cell_type": "code",
      "metadata": {
        "id": "Tql2e1ElUy0k",
        "colab_type": "code",
        "colab": {}
      },
      "source": [
        "node1 = tf.constant(4.3, tf.float16)\n",
        "node2 = tf.constant(7.0, tf.float16)"
      ],
      "execution_count": 0,
      "outputs": []
    },
    {
      "cell_type": "code",
      "metadata": {
        "id": "Qguu4iZLVA-x",
        "colab_type": "code",
        "colab": {}
      },
      "source": [
        "sess = tf.Session()"
      ],
      "execution_count": 0,
      "outputs": []
    },
    {
      "cell_type": "code",
      "metadata": {
        "id": "cOWWPyrsVDou",
        "colab_type": "code",
        "outputId": "d45a9b16-f6d1-4259-b915-84daa5deb613",
        "colab": {
          "base_uri": "https://localhost:8080/",
          "height": 34
        }
      },
      "source": [
        "print(node1)"
      ],
      "execution_count": 0,
      "outputs": [
        {
          "output_type": "stream",
          "text": [
            "Tensor(\"Const:0\", shape=(), dtype=float16)\n"
          ],
          "name": "stdout"
        }
      ]
    },
    {
      "cell_type": "code",
      "metadata": {
        "id": "jq-P2iB7WExj",
        "colab_type": "code",
        "outputId": "098fffa5-8839-4b3b-ce73-bc416331ffb2",
        "colab": {
          "base_uri": "https://localhost:8080/",
          "height": 34
        }
      },
      "source": [
        "print(node2)"
      ],
      "execution_count": 0,
      "outputs": [
        {
          "output_type": "stream",
          "text": [
            "Tensor(\"Const_5:0\", shape=(1,), dtype=float16)\n"
          ],
          "name": "stdout"
        }
      ]
    },
    {
      "cell_type": "code",
      "metadata": {
        "id": "2LJ9bhd0WIEO",
        "colab_type": "code",
        "outputId": "b39d8a88-f084-4077-b172-890f65e146da",
        "colab": {
          "base_uri": "https://localhost:8080/",
          "height": 51
        }
      },
      "source": [
        "print(sess.run(node1))\n",
        "print(sess.run(node2))"
      ],
      "execution_count": 0,
      "outputs": [
        {
          "output_type": "stream",
          "text": [
            "4.3\n",
            "7.0\n"
          ],
          "name": "stdout"
        }
      ]
    },
    {
      "cell_type": "code",
      "metadata": {
        "id": "q1vJYQC3WYxg",
        "colab_type": "code",
        "colab": {}
      },
      "source": [
        "sess.close()"
      ],
      "execution_count": 0,
      "outputs": []
    },
    {
      "cell_type": "code",
      "metadata": {
        "id": "DojAIbubWfNV",
        "colab_type": "code",
        "outputId": "a299ea3c-414c-43e4-d31d-adff1a7873b8",
        "colab": {
          "base_uri": "https://localhost:8080/",
          "height": 34
        }
      },
      "source": [
        "with tf.Session() as sess:\n",
        "  print(sess.run([node1,node2]))\n",
        "  "
      ],
      "execution_count": 0,
      "outputs": [
        {
          "output_type": "stream",
          "text": [
            "[4.3, 7.0]\n"
          ],
          "name": "stdout"
        }
      ]
    },
    {
      "cell_type": "code",
      "metadata": {
        "id": "MH3mQd1uWlj5",
        "colab_type": "code",
        "colab": {}
      },
      "source": [
        "sess.close()"
      ],
      "execution_count": 0,
      "outputs": []
    },
    {
      "cell_type": "code",
      "metadata": {
        "id": "HlmgcYjWW356",
        "colab_type": "code",
        "colab": {}
      },
      "source": [
        "sess.close()"
      ],
      "execution_count": 0,
      "outputs": []
    },
    {
      "cell_type": "code",
      "metadata": {
        "id": "Lx_uaht-W5PR",
        "colab_type": "code",
        "colab": {}
      },
      "source": [
        "sess.close()"
      ],
      "execution_count": 0,
      "outputs": []
    },
    {
      "cell_type": "code",
      "metadata": {
        "id": "pztd1rkzW7Aq",
        "colab_type": "code",
        "colab": {}
      },
      "source": [
        ""
      ],
      "execution_count": 0,
      "outputs": []
    },
    {
      "cell_type": "markdown",
      "metadata": {
        "id": "gHB6PcsaYIxk",
        "colab_type": "text"
      },
      "source": [
        "Creating operation nodes"
      ]
    },
    {
      "cell_type": "code",
      "metadata": {
        "id": "AL3ZGfbCYSkg",
        "colab_type": "code",
        "colab": {}
      },
      "source": [
        "import tensorflow as tf"
      ],
      "execution_count": 0,
      "outputs": []
    },
    {
      "cell_type": "code",
      "metadata": {
        "id": "R2IpK-EjYVL2",
        "colab_type": "code",
        "colab": {}
      },
      "source": [
        "node1 = tf.constant(1.7, tf.float16)\n",
        "node2 = tf.constant(2.3, tf.float16)"
      ],
      "execution_count": 0,
      "outputs": []
    },
    {
      "cell_type": "code",
      "metadata": {
        "id": "XiKeDo3LYdTx",
        "colab_type": "code",
        "colab": {}
      },
      "source": [
        "node3 = tf.add(node1,node2)"
      ],
      "execution_count": 0,
      "outputs": []
    },
    {
      "cell_type": "code",
      "metadata": {
        "id": "atXpy3L3YmNw",
        "colab_type": "code",
        "colab": {}
      },
      "source": [
        "sess = tf.Session()"
      ],
      "execution_count": 0,
      "outputs": []
    },
    {
      "cell_type": "code",
      "metadata": {
        "id": "XyUfkvTfYpDN",
        "colab_type": "code",
        "colab": {}
      },
      "source": [
        "writer = tf.summary.FileWriter(\"./graphs\", sess.graph)"
      ],
      "execution_count": 0,
      "outputs": []
    },
    {
      "cell_type": "code",
      "metadata": {
        "id": "y0AYMqXRYxkl",
        "colab_type": "code",
        "outputId": "1f26c11a-3a9d-41b5-ea5b-b1de76a1d6b5",
        "colab": {
          "base_uri": "https://localhost:8080/",
          "height": 34
        }
      },
      "source": [
        "print(\"Result of sess.run(node3)\", sess.run(node3))"
      ],
      "execution_count": 0,
      "outputs": [
        {
          "output_type": "stream",
          "text": [
            "Result of sess.run(node3) 4.0\n"
          ],
          "name": "stdout"
        }
      ]
    },
    {
      "cell_type": "code",
      "metadata": {
        "id": "pvaoLueDY3qk",
        "colab_type": "code",
        "colab": {}
      },
      "source": [
        "writer.close()"
      ],
      "execution_count": 0,
      "outputs": []
    },
    {
      "cell_type": "code",
      "metadata": {
        "id": "nx64O3YlY509",
        "colab_type": "code",
        "colab": {}
      },
      "source": [
        "sess.close()"
      ],
      "execution_count": 0,
      "outputs": []
    },
    {
      "cell_type": "code",
      "metadata": {
        "id": "aF9BQY3RY6t8",
        "colab_type": "code",
        "outputId": "5036d06f-f4eb-4e83-bf82-0e21372efd0d",
        "colab": {
          "base_uri": "https://localhost:8080/",
          "height": 34
        }
      },
      "source": [
        "%tensorboard --logdir logs"
      ],
      "execution_count": 0,
      "outputs": [
        {
          "output_type": "stream",
          "text": [
            "UsageError: Line magic function `%tensorboard` not found.\n"
          ],
          "name": "stderr"
        }
      ]
    },
    {
      "cell_type": "code",
      "metadata": {
        "id": "ijmspI5fZRjv",
        "colab_type": "code",
        "colab": {}
      },
      "source": [
        "print(tf.get_logdir())"
      ],
      "execution_count": 0,
      "outputs": []
    },
    {
      "cell_type": "code",
      "metadata": {
        "id": "EmQfkYPXaKTm",
        "colab_type": "code",
        "colab": {}
      },
      "source": [
        "!tensorboard --logdir=\"/tmp/log/\" --port 6006"
      ],
      "execution_count": 0,
      "outputs": []
    },
    {
      "cell_type": "code",
      "metadata": {
        "id": "bnBExcSZbNc6",
        "colab_type": "code",
        "colab": {}
      },
      "source": [
        "!tensorboard --logdir \"./graphs\" --port 6006"
      ],
      "execution_count": 0,
      "outputs": []
    },
    {
      "cell_type": "code",
      "metadata": {
        "id": "gjGOP5CPeBKi",
        "colab_type": "code",
        "colab": {}
      },
      "source": [
        "tensorboard --logdir=\"./graphs\" --port 6006"
      ],
      "execution_count": 0,
      "outputs": []
    },
    {
      "cell_type": "code",
      "metadata": {
        "id": "Y2l9KZpDgQeE",
        "colab_type": "code",
        "outputId": "2883941c-7277-43da-cb90-c8e442f0ed7c",
        "colab": {
          "base_uri": "https://localhost:8080/",
          "height": 105
        }
      },
      "source": [
        "!python -m tensorboard.main --logdir=graphs --port=6006"
      ],
      "execution_count": 0,
      "outputs": [
        {
          "output_type": "stream",
          "text": [
            "2020-03-30 09:06:53.406027: I tensorflow/stream_executor/platform/default/dso_loader.cc:44] Successfully opened dynamic library libcudart.so.10.1\n",
            "Serving TensorBoard on localhost; to expose to the network, use a proxy or pass --bind_all\n",
            "TensorBoard 2.1.1 at http://localhost:6006/ (Press CTRL+C to quit)\n",
            "^C\n"
          ],
          "name": "stdout"
        }
      ]
    },
    {
      "cell_type": "code",
      "metadata": {
        "id": "g50HMdA7SbpU",
        "colab_type": "code",
        "outputId": "e9797937-9090-459f-ddc7-02e6ac3ed311",
        "colab": {
          "base_uri": "https://localhost:8080/",
          "height": 34
        }
      },
      "source": [
        "%tensorflow_version 1.x"
      ],
      "execution_count": 0,
      "outputs": [
        {
          "output_type": "stream",
          "text": [
            "TensorFlow 1.x selected.\n"
          ],
          "name": "stdout"
        }
      ]
    },
    {
      "cell_type": "code",
      "metadata": {
        "id": "c20118rvr2zo",
        "colab_type": "code",
        "outputId": "ddf9d76e-04bf-4a9a-e4b0-ebbdefae02bd",
        "colab": {
          "base_uri": "https://localhost:8080/",
          "height": 34
        }
      },
      "source": [
        "import tensorflow as tf"
      ],
      "execution_count": 0,
      "outputs": [
        {
          "output_type": "stream",
          "text": [
            "1.15.2\n"
          ],
          "name": "stdout"
        }
      ]
    },
    {
      "cell_type": "code",
      "metadata": {
        "id": "p9Z1ruLESKa1",
        "colab_type": "code",
        "colab": {}
      },
      "source": [
        "node1 = tf.placeholder(dtype = tf.float16)\n",
        "node2 = tf.placeholder(dtype = tf.float16)"
      ],
      "execution_count": 0,
      "outputs": []
    },
    {
      "cell_type": "code",
      "metadata": {
        "id": "xvZ-LkNHSWs5",
        "colab_type": "code",
        "colab": {}
      },
      "source": [
        "#+ is identical to tf.add(node1,node2)\n",
        "node3 = node1 + node2\n",
        "node4 = node3 * 5"
      ],
      "execution_count": 0,
      "outputs": []
    },
    {
      "cell_type": "code",
      "metadata": {
        "id": "7NcTm1n9S66k",
        "colab_type": "code",
        "outputId": "d5d0897d-759e-4e0b-d9e5-e949d422e45a",
        "colab": {
          "base_uri": "https://localhost:8080/",
          "height": 51
        }
      },
      "source": [
        "with tf.Session() as sess:\n",
        "  writer = tf.summary.FileWriter(\"./graphs\", sess.graph)\n",
        "  print(\"Result of sess.run(node3): \", sess.run(node4, feed_dict={node1: 7, node2: 4}))\n",
        "  print(\"Result of sess.run(node3): \", sess.run(node4, feed_dict={node1: 1.3, node2:5.7}))\n",
        "  writer.close()"
      ],
      "execution_count": 0,
      "outputs": [
        {
          "output_type": "stream",
          "text": [
            "Result of sess.run(node3):  55.0\n",
            "Result of sess.run(node3):  35.0\n"
          ],
          "name": "stdout"
        }
      ]
    },
    {
      "cell_type": "code",
      "metadata": {
        "id": "OhTBPspOTfs7",
        "colab_type": "code",
        "colab": {}
      },
      "source": [
        "!python -m tensorboard.main --logdir=graphs --port=6006"
      ],
      "execution_count": 0,
      "outputs": []
    },
    {
      "cell_type": "code",
      "metadata": {
        "id": "i0k6zURvTzqJ",
        "colab_type": "code",
        "colab": {}
      },
      "source": [
        "import tensorflow as tf"
      ],
      "execution_count": 0,
      "outputs": []
    },
    {
      "cell_type": "code",
      "metadata": {
        "id": "VcnFohScWYIU",
        "colab_type": "code",
        "outputId": "be034565-f9cd-4ba2-c888-6d288d1a5c0e",
        "colab": {
          "base_uri": "https://localhost:8080/",
          "height": 34
        }
      },
      "source": [
        "print(tf.__version__)"
      ],
      "execution_count": 0,
      "outputs": [
        {
          "output_type": "stream",
          "text": [
            "2.2.0-rc1\n"
          ],
          "name": "stdout"
        }
      ]
    },
    {
      "cell_type": "code",
      "metadata": {
        "id": "QetqyuFnWbrv",
        "colab_type": "code",
        "outputId": "0b45525c-e26a-4374-a4a0-a6816a816487",
        "colab": {
          "base_uri": "https://localhost:8080/",
          "height": 34
        }
      },
      "source": [
        "%tensorflow_version 1.x"
      ],
      "execution_count": 0,
      "outputs": [
        {
          "output_type": "stream",
          "text": [
            "TensorFlow 1.x selected.\n"
          ],
          "name": "stdout"
        }
      ]
    },
    {
      "cell_type": "code",
      "metadata": {
        "id": "oVkWbkCWXdT3",
        "colab_type": "code",
        "colab": {}
      },
      "source": [
        "import tensorflow as tf"
      ],
      "execution_count": 0,
      "outputs": []
    },
    {
      "cell_type": "code",
      "metadata": {
        "id": "LaDx_OG1YBOQ",
        "colab_type": "code",
        "colab": {}
      },
      "source": [
        "var1 = tf.Variable(initial_value = [3.6], dtype=tf.float32)"
      ],
      "execution_count": 0,
      "outputs": []
    },
    {
      "cell_type": "code",
      "metadata": {
        "id": "dnLzHbAYYToW",
        "colab_type": "code",
        "outputId": "23bb2709-9552-4d79-d131-6589729539a5",
        "colab": {
          "base_uri": "https://localhost:8080/",
          "height": 34
        }
      },
      "source": [
        "print(var1)"
      ],
      "execution_count": 0,
      "outputs": [
        {
          "output_type": "stream",
          "text": [
            "<tf.Variable 'Variable:0' shape=(1,) dtype=float32_ref>\n"
          ],
          "name": "stdout"
        }
      ]
    },
    {
      "cell_type": "code",
      "metadata": {
        "id": "eoQgTChCYVpZ",
        "colab_type": "code",
        "colab": {}
      },
      "source": [
        "sess = tf.Session()"
      ],
      "execution_count": 0,
      "outputs": []
    },
    {
      "cell_type": "code",
      "metadata": {
        "id": "K4FmLbfiYaHt",
        "colab_type": "code",
        "colab": {}
      },
      "source": [
        "print(\"Result: \", sess.run(var1))"
      ],
      "execution_count": 0,
      "outputs": []
    },
    {
      "cell_type": "code",
      "metadata": {
        "id": "0pgz69QOYdAv",
        "colab_type": "code",
        "colab": {}
      },
      "source": [
        "sess.close()"
      ],
      "execution_count": 0,
      "outputs": []
    },
    {
      "cell_type": "code",
      "metadata": {
        "id": "XK0UuCKbYv7P",
        "colab_type": "code",
        "colab": {}
      },
      "source": [
        "init = tf.global_variables_initializer()\n",
        "sess.run(init)"
      ],
      "execution_count": 0,
      "outputs": []
    },
    {
      "cell_type": "code",
      "metadata": {
        "id": "mkdFd-SQY14P",
        "colab_type": "code",
        "colab": {}
      },
      "source": [
        "var1 = tf.Variable(initial_value=[2.3], dtype=tf.float32)\n",
        "var2 = tf.Variable(initial_value=var1.initialized_value(), dtype=tf.float32)\n",
        "var3 = tf.Variable(initial_value=var2.initialized_value()*3, dtype=tf.float32)"
      ],
      "execution_count": 0,
      "outputs": []
    },
    {
      "cell_type": "code",
      "metadata": {
        "id": "V6pHZLrXZ4jn",
        "colab_type": "code",
        "outputId": "4f2a3f9a-7cef-4258-e034-cd9da7d57f57",
        "colab": {
          "base_uri": "https://localhost:8080/",
          "height": 68
        }
      },
      "source": [
        "print(f\"{var1}\\n{var2}\\n{var3}\")"
      ],
      "execution_count": 0,
      "outputs": [
        {
          "output_type": "stream",
          "text": [
            "<tf.Variable 'Variable_3:0' shape=(1,) dtype=float32_ref>\n",
            "<tf.Variable 'Variable_4:0' shape=(1,) dtype=float32_ref>\n",
            "<tf.Variable 'Variable_5:0' shape=(1,) dtype=float32_ref>\n"
          ],
          "name": "stdout"
        }
      ]
    },
    {
      "cell_type": "code",
      "metadata": {
        "id": "58JU0nxkaFFm",
        "colab_type": "code",
        "outputId": "7de1fc2a-9c54-4fc1-e6cb-fe52a231dc09",
        "colab": {
          "base_uri": "https://localhost:8080/",
          "height": 34
        }
      },
      "source": [
        "#Variables can be initialized using the constant tensors\n",
        "tf.zeros(5, dtype=tf.float32)"
      ],
      "execution_count": 0,
      "outputs": [
        {
          "output_type": "execute_result",
          "data": {
            "text/plain": [
              "<tf.Tensor 'zeros:0' shape=(5,) dtype=float32>"
            ]
          },
          "metadata": {
            "tags": []
          },
          "execution_count": 18
        }
      ]
    },
    {
      "cell_type": "markdown",
      "metadata": {
        "id": "NSGrmrMmbUHH",
        "colab_type": "text"
      },
      "source": [
        "Training A Linear Model"
      ]
    },
    {
      "cell_type": "code",
      "metadata": {
        "id": "3TYIVrJYbXyu",
        "colab_type": "code",
        "colab": {}
      },
      "source": [
        "import tensorflow as tf"
      ],
      "execution_count": 0,
      "outputs": []
    },
    {
      "cell_type": "code",
      "metadata": {
        "id": "HOjEC11jbaeF",
        "colab_type": "code",
        "colab": {}
      },
      "source": [
        "weights = tf.Variable(initial_value=[2.6], dtype=tf.float32)\n",
        "bias = tf.Variable(initial_value=[1], dtype=tf.float32)\n",
        "data = tf.placeholder(dtype=tf.float32)\n",
        "linear_model = weights*data + bias"
      ],
      "execution_count": 0,
      "outputs": []
    },
    {
      "cell_type": "code",
      "metadata": {
        "id": "n8EZNc8CcGvu",
        "colab_type": "code",
        "colab": {}
      },
      "source": [
        "sess = tf.Session()\n",
        "init = tf.global_variables_initializer()\n",
        "sess.run(init)"
      ],
      "execution_count": 0,
      "outputs": []
    },
    {
      "cell_type": "code",
      "metadata": {
        "id": "bhxmz6SDbqZt",
        "colab_type": "code",
        "outputId": "4d0ebaab-45ef-4ffc-c229-53636bc9332e",
        "colab": {
          "base_uri": "https://localhost:8080/",
          "height": 68
        }
      },
      "source": [
        "print(sess.run(linear_model, feed_dict={data: [1]}))\n",
        "print(sess.run(linear_model, feed_dict={data: [2]}))\n",
        "print(sess.run(linear_model, feed_dict={data: [3]}))"
      ],
      "execution_count": 0,
      "outputs": [
        {
          "output_type": "stream",
          "text": [
            "[3.6]\n",
            "[6.2]\n",
            "[8.799999]\n"
          ],
          "name": "stdout"
        }
      ]
    },
    {
      "cell_type": "code",
      "metadata": {
        "id": "N_lrBiYyc_G-",
        "colab_type": "code",
        "outputId": "ea01748f-1c76-4d9d-8d9f-adaf1a115ccc",
        "colab": {
          "base_uri": "https://localhost:8080/",
          "height": 34
        }
      },
      "source": [
        "#Complete Code for Linear model\n",
        "import tensorflow as tf\n",
        "\n",
        "w = tf.Variable(initial_value=[.6], dtype=tf.float32)\n",
        "b = tf.Variable(initial_value=[.2], dtype=tf.float32)\n",
        "x = tf.placeholder(dtype=tf.float32)\n",
        "f\n",
        "linear_model = w * x + b\n",
        "\n",
        "with tf.Session() as sess:\n",
        "  #Initializing the variables\n",
        "  init = tf.global_variables_initializer()\n",
        "  sess.run(init)\n",
        "\n",
        "  #Feeding the placeholder with data\n",
        "  print(sess.run(linear_model, feed_dict={x: [1,2,3,4]}))\n",
        "  sess.close()"
      ],
      "execution_count": 0,
      "outputs": [
        {
          "output_type": "stream",
          "text": [
            "[0.8       1.4000001 2.        2.6000001]\n"
          ],
          "name": "stdout"
        }
      ]
    },
    {
      "cell_type": "code",
      "metadata": {
        "id": "A6QC6W-bgD7d",
        "colab_type": "code",
        "colab": {
          "base_uri": "https://localhost:8080/",
          "height": 34
        },
        "outputId": "19e39cd1-55c2-497c-f093-f84060786882"
      },
      "source": [
        "import tensorflow as tf\n",
        "print(tf.__version__)"
      ],
      "execution_count": 2,
      "outputs": [
        {
          "output_type": "stream",
          "text": [
            "1.15.2\n"
          ],
          "name": "stdout"
        }
      ]
    },
    {
      "cell_type": "code",
      "metadata": {
        "id": "36GRe-lr6M1O",
        "colab_type": "code",
        "colab": {
          "base_uri": "https://localhost:8080/",
          "height": 34
        },
        "outputId": "d916d164-4572-4128-d37b-624fd7113d75"
      },
      "source": [
        "import tensorflow as tf\n",
        "\n",
        "#Trainable Parameters\n",
        "W = tf.Variable([.6], dtype = tf.float32)\n",
        "b = tf.Variable([.2], dtype = tf.float32)\n",
        "\n",
        "#Training data (Inputs/Outputs)\n",
        "x = tf.placeholder(dtype = tf.float32)\n",
        "y = tf.placeholder(dtype = tf.float32)\n",
        "\n",
        "#Linear Model\n",
        "linear_model = W * x + b\n",
        "\n",
        "#Linear Regression loss function - Sum of Squares\n",
        "squared_deltas = tf.square(linear_model - y)\n",
        "loss = tf.reduce_sum(squared_deltas)\n",
        "\n",
        "#Creating a session\n",
        "sess = tf.Session()\n",
        "\n",
        "#Initializing Variables\n",
        "init = tf.global_variables_initializer()\n",
        "sess.run(init)\n",
        "\n",
        "#Print the loss\n",
        "print(sess.run(loss, feed_dict = {x: [1,2,3,4], y: [0,1,2,3]}))\n",
        "\n",
        "#Closing the session\n",
        "sess.close()"
      ],
      "execution_count": 4,
      "outputs": [
        {
          "output_type": "stream",
          "text": [
            "0.96000004\n"
          ],
          "name": "stdout"
        }
      ]
    },
    {
      "cell_type": "code",
      "metadata": {
        "id": "Bd2juBYM8AG0",
        "colab_type": "code",
        "colab": {}
      },
      "source": [
        ""
      ],
      "execution_count": 0,
      "outputs": []
    }
  ]
}